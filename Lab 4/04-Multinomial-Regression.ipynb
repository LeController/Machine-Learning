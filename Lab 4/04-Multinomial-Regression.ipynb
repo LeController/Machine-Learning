{
 "cells": [
  {
   "cell_type": "markdown",
   "metadata": {},
   "source": [
    "Before you turn this problem in, make sure everything runs as expected. First, **restart the kernel** (in the menubar, select Kernel$\\rightarrow$Restart) and then **run all cells** (in the menubar, select Cell$\\rightarrow$Run All).\n",
    "\n",
    "Make sure you fill in any place that says `YOUR CODE HERE` or \"YOUR ANSWER HERE\", as well as your name and collaborators below:"
   ]
  },
  {
   "cell_type": "code",
   "execution_count": 1,
   "metadata": {},
   "outputs": [],
   "source": [
    "NAME = \"Anuj Gupta\"\n",
    "ID = \"st122561\""
   ]
  },
  {
   "cell_type": "markdown",
   "metadata": {},
   "source": [
    "---"
   ]
  },
  {
   "cell_type": "markdown",
   "metadata": {},
   "source": [
    "# Machine Learning Lab 04: Multinomial Logistic Regression\n"
   ]
  },
  {
   "cell_type": "markdown",
   "metadata": {},
   "source": [
    "## Generalized Linear Models\n",
    "\n",
    "From lecture, we know that members of the exponential family distributions can be written in the form\n",
    "$$p(y;\\eta) = b(y)e^{(\\eta^\\top T(y)-a(\\eta))},$$\n",
    "where\n",
    "- $\\eta$ is the natural parameter or canonical paramter of the distribution,\n",
    "- $T(y)$ is the sufficient statistic (we normally use $T(y) = y$),\n",
    "- $b(y)$ is an arbitrary scalar function of y, and\n",
    "- $a(\\eta)$ is the log partition function. We use $e^{a(\\eta)}$ just to normalize the distribution to have a sum or integral of 1.\n",
    "\n",
    "Each choice of $T$, $a$, and $b$ defines a family (set) of distributions parameterized by $\\eta$.\n",
    "\n",
    "If we can write $p(y \\mid \\mathbf{x} ; \\theta)$ as a member of the exponential family of distributions with parameters $\\mathbf{\\eta}$ with\n",
    "$\\eta_i = \\theta^\\top_i \\mathbf{x}$, we obtain a *generalized linear model* that can be optimized using the maximum likelihood principle.\n",
    "\n",
    "The GLM for the Gaussian distribution with natural parameter $\\eta$ being the mean of the Gaussian gives us ordinary linear regression.\n",
    "\n",
    "The Bernoulli distribution with parameter $\\phi$ can be written as an exponential distribution\n",
    "with natural parmeter $\\eta = \\log \\frac{\\phi}{1-\\phi}$. The GLM for this distribution is logistic regression.\n",
    "\n",
    "When we write the multinomial distribution with paremeters $\\phi_i > 0$ for classes $i \\in 1..K$ with the constraint that\n",
    "$$\\sum_{i=1}^{K} \\phi_i = 1$$ as a member of the exponential family,\n",
    "the resulting GLM is called *multinomial logistic regression*. The parameters $\\phi_1, \\ldots, \\phi_K$ are written\n",
    "in terms of $\\theta$ as\n",
    "$$\\phi_i = p(y = i \\mid \\mathbf{x}; \\theta) = \\frac{e^{\\theta^\\top_i \\mathbf{x}}}{\\sum_{j=1}^{K}e^{\\theta^\\top_j \\mathbf{x}}}. $$"
   ]
  },
  {
   "cell_type": "markdown",
   "metadata": {},
   "source": [
    "## Optimizing a Multinomial Regression Model\n",
    "\n",
    "In multinomial regression, we have\n",
    "\n",
    "1. Data are pairs $\\mathbf{x}^{(i)}, y^{(i)}$ with $\\mathbf{x}^{(i)} \\in \\mathbb{R}^n$ and\n",
    "   $y \\in 1..K$.\n",
    "   \n",
    "2. The hypothesis is a vector-valued function\n",
    "$$\\mathbf{h}_\\theta(\\mathbf{x}) = \\begin{bmatrix} p(y = 1 \\mid \\mathbf{x} ; \\theta) \\\\\n",
    "                                         p(y = 2 \\mid \\mathbf{x} ; \\theta) \\\\\n",
    "                                         \\vdots \\\\\n",
    "                                         p(y = K \\mid \\mathbf{x} ; \\theta) \\end{bmatrix},$$\n",
    "    where $$p(y = i \\mid \\mathbf{x}) = \\phi_i = p(y = i \\mid \\mathbf{x}; \\theta) = \\frac{e^{\\theta^\\top_i \\mathbf{x}}}{\\sum_{j=1}^{K}e^{\\theta^\\top_j \\mathbf{x}}}. $$\n",
    "\n",
    "We need a cost function and a way to minimize that cost function. As usual, we try to find the parameters maximizing the likelihood or log likelihood function, or equivalently, minimizing the negative log likelihood function:\n",
    "\n",
    "$$\\theta^* = \\text{argmax}_\\theta {\\cal L}(\\theta) =\n",
    "             \\text{argmax}_\\theta \\ell(\\theta) =\n",
    "             \\text{argmin}_\\theta J(\\theta),$$\n",
    "where\n",
    "$$\\begin{eqnarray}\n",
    "   J(\\theta) & = & - \\ell(\\theta) \\\\\n",
    "   & = & - \\sum_{i=1}^m \\log p(y^{(i)} \\mid \\textbf{x}^{(i)} ; \\theta).\n",
    "   \\end{eqnarray}$$\n",
    "\n",
    "Now that we know what is $J(\\theta)$, let's try to find its minimimum by taking the derivatives with respect to an arbitrary parameter $\\theta_{kl}$, the $l$-th element of the parameter vector $\\theta_k$ for class $k$. Before we start, let's define a variable $a_k$ as the linear activation for class $k$ in the softmax function:\n",
    "$$ a_k = \\theta_k^\\top \\mathbf{x}^{(i)}, $$\n",
    "and rewrite the softmax more conveniently as\n",
    "$$ \\phi_k = \\frac{e^{a_k}}{\\sum_{j=1}^K e^{a_j}}. $$\n",
    "That makes it a little easier to compute the gradient:\n",
    "$$\\begin{eqnarray}\n",
    "   \\frac{\\partial J}{\\partial \\theta_{kl}} & = & - \\sum_{i=1}^m \\frac{1}{\\phi_{y^{(i)}}} \\frac{\\partial \\phi_{y^{(i)}}}{\\partial \\theta_{kl}}. \\\\\n",
    "   \\end{eqnarray}$$\n",
    "Using the chain rule, we have\n",
    "$$\\frac{\\partial \\phi_{y^{(i)}}}{\\partial \\theta_{kl}} = \\sum_{j=1}^K \\frac{\\partial \\phi_{y^{(i)}}}{\\partial a_j} \\frac{\\partial a_j}{\\partial \\theta_{kl}}$$\n",
    "The second factor is easy:\n",
    "$$ \\frac{\\partial a_j}{\\partial \\theta_{kl}} = \\delta(k=j)x^{(i)}_l. $$\n",
    "For the first factor, we have\n",
    "$$\\begin{eqnarray}\n",
    "\\frac{\\partial \\phi_{y^{(i)}}}{\\partial a_j}\n",
    "& = & \\frac{ \\left[ \\delta(y^{(i)}=j)e^{a_j} \\sum_{c=1}^K e^{a_c} \\right] - e^{a_j} e^{a_j} }{\\left[ \\sum_{c=1}^K e^{a_c} \\right]^2} \\\\\n",
    "& = & \\delta(y^{(i)}=j) \\phi_j - \\phi_j^2\n",
    "\\end{eqnarray}$$\n",
    "\n",
    "Substituting what we've derived into the definition above, we obtain\n",
    "$$ \\frac{\\partial J}{\\theta_{kl}} = - \\sum_{i=1}^m \\sum_{j=1}^K (\\delta(y^{(i)}=j) - \\phi_j) \\frac{\\partial a_j}{\\partial \\theta_{kl}}. $$\n",
    "\n",
    "There are two ways to do the calculation.\n",
    "In deep neural networks with multinomial outputs, we want to first calculate the $\\frac{\\partial J}{\\partial a_j}$ terms then use them to calculate $\\frac{\\partial J}{\\partial \\theta_{kl}}$.\n",
    "\n",
    "However, if we only have the \"single layer\" model described up till now, we note\n",
    "that\n",
    "$$\\frac{\\partial a_j}{\\partial \\theta_{kl}} = \\delta(j=k) x^{(i)}_l,$$\n",
    "so we can simplify as follows:\n",
    "$$\\begin{eqnarray}\n",
    "  \\frac{\\partial J}{\\theta_{kl}} & = & - \\sum_{i=1}^m \\sum_{j=1}^K (\\delta(y^{(i)}=j) - \\phi_j) \\frac{\\partial a_j}{\\partial \\theta_{kl}} \\\\\n",
    "  & = & - \\sum_{i=1}^m \\sum_{j=1}^K (\\delta(y^{(i)}=j) - \\phi_j) \\delta(j=k) x^{(i)}_l \\\\\n",
    "  & = & - \\sum_{i=1}^m (\\delta(y^{(i)}=k) - \\phi_k) x^{(i)}_l \\\\\n",
    "  \\end{eqnarray}$$"
   ]
  },
  {
   "cell_type": "markdown",
   "metadata": {},
   "source": [
    "## Put It Together\n",
    "\n",
    "OK! Now we have all 4 criteria for our multinomial regression model:\n",
    "\n",
    "1. Data are pairs $\\mathbf{x}^{(i)}, y^{(i)}$ with $\\mathbf{x}^{(i)} \\in \\mathbb{R}^n$ and\n",
    "   $y \\in 1..K$.\n",
    "   \n",
    "2. The hypothesis is a vector-valued function\n",
    "$$\\mathbf{h}_\\theta(\\mathbf{x}) = \\begin{bmatrix} p(y = 1 \\mid \\mathbf{x} ; \\theta) \\\\\n",
    "                                         p(y = 2 \\mid \\mathbf{x} ; \\theta) \\\\\n",
    "                                         \\vdots \\\\\n",
    "                                         p(y = K \\mid \\mathbf{x} ; \\theta) \\end{bmatrix},$$\n",
    "    where $$p(y = i \\mid \\mathbf{x}) = \\phi_i = p(y = i \\mid \\mathbf{x}; \\theta) = \\frac{e^{\\theta^\\top_i \\mathbf{x}}}{\\sum_{j=1}^{K}e^{\\theta^\\top_j \\mathbf{x}}}. $$\n",
    "    \n",
    "3. The cost function is\n",
    "   $$J(\\theta) = - \\sum_{i=1}^m \\log p(y^{(i)} \\mid \\textbf{x}^{(i)})$$\n",
    "   \n",
    "4. The optimization algorithm is gradient descent on $J(\\theta)$ with the update rule\n",
    "   $$\\theta_{kl}^{(n+1)} \\leftarrow \\theta_{kl}^{(n)} - \\alpha \\sum_{i=1}^m (\\delta(y^{(i)}=k) - \\phi_k) x^{(i)}_l.$$\n"
   ]
  },
  {
   "cell_type": "markdown",
   "metadata": {},
   "source": [
    "## Multinomial Regression Example\n",
    "\n",
    "The following example of multinomial logistic regression is from [Kaggle](https://www.kaggle.com/saksham219/softmax-regression-for-iris-classification).\n",
    "\n",
    "The data set is the famous [Iris dataset from the UCI machine learning repository](https://archive.ics.uci.edu/ml/datasets/iris).\n",
    "\n",
    "The data contain 50 samples from each of three classes. Each class refers to a particular species of the iris plant. \n",
    "The data include four independent variables:\n",
    "1. Sepal length in cm\n",
    "2. Sepal width in cm\n",
    "3. Petal length in cm\n",
    "4. Petal width in cm\n",
    "\n",
    "The target takes on one of three classes:\n",
    "1. Iris Setosa\n",
    "2. Iris Versicolour\n",
    "3. Iris Virginica\n",
    "   \n",
    "To predict the target value, we use multinomial logistic regression for $k=3$ classes i.e. $y \\in \\{ 1, 2, 3 \\}$. \n",
    "\n",
    "Given $\\mathbf{x}$, we would like to predict a probability distribution over the\n",
    "three outcomes for $y$, i.e., $\\phi_1 = p(y=1 \\mid \\mathbf{x})$, $\\phi_2 = p(y=2 \\mid \\mathbf{x})$, and $\\phi_3 = p(y=3 \\mid \\mathbf{x})$.\n"
   ]
  },
  {
   "cell_type": "code",
   "execution_count": 2,
   "metadata": {},
   "outputs": [],
   "source": [
    "# importing libraries\n",
    "import numpy as np\n",
    "import pandas as pd \n",
    "import random\n",
    "import math"
   ]
  },
  {
   "cell_type": "markdown",
   "metadata": {},
   "source": [
    "The `phi` function returns $\\phi_i$ for input patterns $\\mathtt{X}$ and parameters $\\theta$."
   ]
  },
  {
   "cell_type": "code",
   "execution_count": 3,
   "metadata": {},
   "outputs": [],
   "source": [
    "def phi(i, theta, X, num_class):\n",
    "    \"\"\"\n",
    "    Here is how to make documentation for your function show up in intellisense.\n",
    "    Explanation you put here will be shown when you use it.\n",
    "    \n",
    "    To get intellisense in your Jupyter notebook:\n",
    "        - Press 'TAB' after typing a dot (.) to see methods and attributes\n",
    "        - Press 'Shift+TAB' after typing a function name to see its documentation\n",
    "\n",
    "    The `phi` function returns phi_i = h_theta(x) for input patterns X and parameters theta.\n",
    "    \n",
    "    Inputs:\n",
    "        i=index of phi\n",
    "        \n",
    "        X=input dataset\n",
    "        \n",
    "        theta=parameters\n",
    "\n",
    "    Returns:\n",
    "        phi_i\n",
    "    \"\"\"\n",
    "    mat_theta = np.matrix(theta[i])\n",
    "    mat_x = np.matrix(X)\n",
    "    num = math.exp(np.dot(mat_theta, mat_x.T))\n",
    "    den = 0\n",
    "    for j in range(0,num_class):\n",
    "        mat_theta_j = np.matrix(theta[j])\n",
    "        den = den + math.exp(np.dot(mat_theta_j, mat_x.T))\n",
    "    phi_i = num / den\n",
    "    return phi_i"
   ]
  },
  {
   "attachments": {
    "lab4-01.png": {
     "image/png": "[encoded data removed]"
    }
   },
   "cell_type": "markdown",
   "metadata": {
    "deletable": false,
    "editable": false,
    "nbgrader": {
     "cell_type": "markdown",
     "checksum": "7bbfb7d7db673b01e26f88fec69cd486",
     "grade": false,
     "grade_id": "cell-f6c98aabf4060a6e",
     "locked": true,
     "schema_version": 3,
     "solution": false,
     "task": false
    }
   },
   "source": [
    "**Tips for using intellisense: Shift+TAB**\n",
    "\n",
    "![lab4-01.png](attachment:lab4-01.png)"
   ]
  },
  {
   "cell_type": "markdown",
   "metadata": {},
   "source": [
    "The `grad_cost` function gives the gradient of the cost for data $\\mathtt{X}, \\mathbf{y}$ for class $j\\in 1..k$."
   ]
  },
  {
   "cell_type": "code",
   "execution_count": 4,
   "metadata": {},
   "outputs": [],
   "source": [
    "def indicator(i, j):\n",
    "    '''\n",
    "    Check whether i is equal to j\n",
    "    \n",
    "    Return:\n",
    "        1 when i=j, otherwise 0\n",
    "    '''\n",
    "    if i == j: return 1\n",
    "    else: return 0\n",
    "\n",
    "\n",
    "def grad_cost(X, y, j, theta, num_class):\n",
    "    '''\n",
    "    Compute the gradient of the cost function for data X, y for parameters of\n",
    "    output for class j in 1..k\n",
    "    '''\n",
    "    m, n = X.shape\n",
    "    sum = np.array([0 for i in range(0,n)])\n",
    "    for i in range(0, m):\n",
    "        p = indicator(y[i], j) - phi(j, theta, X.loc[i], num_class)\n",
    "        sum = sum + (X.loc[i] * p)\n",
    "    grad = -sum / m\n",
    "    return grad\n",
    "\n",
    "def gradient_descent(X, y, theta, alpha, iters, num_class):\n",
    "    '''\n",
    "    Perform iters iterations of gradient descent: theta_new = theta_old - alpha * cost\n",
    "    '''\n",
    "    n = X.shape[1]\n",
    "    for iter in range(iters):\n",
    "        dtheta = np.zeros((num_class, n))\n",
    "        for j in range(0, num_class):\n",
    "            dtheta[j,:] = grad_cost(X, y, j, theta, num_class)\n",
    "        theta = theta - alpha * dtheta\n",
    "    return theta\n",
    "\n",
    "def h(X, theta, num_class):\n",
    "    '''\n",
    "    Hypothesis function: h_theta(X) = theta * X\n",
    "    '''\n",
    "    X = np.matrix(X)\n",
    "    h_matrix = np.empty((num_class,1))\n",
    "    den = 0\n",
    "    for j in range(0, num_class):\n",
    "        den = den + math.exp(np.dot(theta[j], X.T))\n",
    "    for i in range(0,num_class):\n",
    "        h_matrix[i] = math.exp(np.dot(theta[i], X.T))\n",
    "    h_matrix = h_matrix / den\n",
    "    return h_matrix"
   ]
  },
  {
   "cell_type": "markdown",
   "metadata": {
    "deletable": false,
    "editable": false,
    "nbgrader": {
     "cell_type": "markdown",
     "checksum": "ae6bc59fd16f769612e9610237a581c7",
     "grade": false,
     "grade_id": "cell-7ef5fafee187b7b0",
     "locked": true,
     "schema_version": 3,
     "solution": false,
     "task": false
    }
   },
   "source": [
    "## Exercise 1.1 (5 points)\n",
    "\n",
    "Create a function to load **data** from **Iris.csv** using the Pandas library and extract y from the data.\n",
    "\n",
    "You can use [the Pandas 10 minute guide](https://pandas.pydata.org/pandas-docs/stable/user_guide/10min.html) to learn how to use pandas."
   ]
  },
  {
   "cell_type": "code",
   "execution_count": 5,
   "metadata": {
    "deletable": false,
    "nbgrader": {
     "cell_type": "code",
     "checksum": "628cb1c0a7d70ab1055c7b3517979f8b",
     "grade": false,
     "grade_id": "cell-d063fd66918f3b47",
     "locked": false,
     "schema_version": 3,
     "solution": true,
     "task": false
    }
   },
   "outputs": [],
   "source": [
    "def load_data(file_name, drop_label, y_label, is_print=False):\n",
    "    # 1. Load csv file\n",
    "    data = pd.read_csv(file_name)\n",
    "    if is_print:\n",
    "        print(data.head())\n",
    "    # 2. remove 'Id' column from data\n",
    "    if drop_label is not None:\n",
    "        data = data.drop([drop_label],axis=1)\n",
    "        if is_print:\n",
    "            print(data.head())\n",
    "    # 3. Extract y_label column as y from data\n",
    "    y = data[y_label]\n",
    "    # 4. get index of y-column\n",
    "    y_index = data.columns.get_loc(y_label)\n",
    "    # 5. Extract X features from data\n",
    "    X = data.drop([y_label], axis=1)\n",
    "    # YOUR CODE HERE\n",
    "    return X, y"
   ]
  },
  {
   "cell_type": "code",
   "execution_count": 6,
   "metadata": {
    "deletable": false,
    "editable": false,
    "nbgrader": {
     "cell_type": "code",
     "checksum": "e754d7fcc097ad58a8f5cb616fec5605",
     "grade": true,
     "grade_id": "cell-7b5c0f18770fbccb",
     "locked": true,
     "points": 5,
     "schema_version": 3,
     "solution": false,
     "task": false
    }
   },
   "outputs": [
    {
     "name": "stdout",
     "output_type": "stream",
     "text": [
      "   Id  SepalLengthCm  SepalWidthCm  PetalLengthCm  PetalWidthCm      Species\n",
      "0   1            5.1           3.5            1.4           0.2  Iris-setosa\n",
      "1   2            4.9           3.0            1.4           0.2  Iris-setosa\n",
      "2   3            4.7           3.2            1.3           0.2  Iris-setosa\n",
      "3   4            4.6           3.1            1.5           0.2  Iris-setosa\n",
      "4   5            5.0           3.6            1.4           0.2  Iris-setosa\n",
      "   SepalLengthCm  SepalWidthCm  PetalLengthCm  PetalWidthCm      Species\n",
      "0            5.1           3.5            1.4           0.2  Iris-setosa\n",
      "1            4.9           3.0            1.4           0.2  Iris-setosa\n",
      "2            4.7           3.2            1.3           0.2  Iris-setosa\n",
      "3            4.6           3.1            1.5           0.2  Iris-setosa\n",
      "4            5.0           3.6            1.4           0.2  Iris-setosa\n",
      "   SepalLengthCm  SepalWidthCm  PetalLengthCm  PetalWidthCm\n",
      "0            5.1           3.5            1.4           0.2\n",
      "1            4.9           3.0            1.4           0.2\n",
      "2            4.7           3.2            1.3           0.2\n",
      "3            4.6           3.1            1.5           0.2\n",
      "4            5.0           3.6            1.4           0.2\n",
      "0    Iris-setosa\n",
      "1    Iris-setosa\n",
      "2    Iris-setosa\n",
      "3    Iris-setosa\n",
      "4    Iris-setosa\n",
      "Name: Species, dtype: object\n",
      "success!\n"
     ]
    }
   ],
   "source": [
    "X, y = load_data('Iris.csv', 'Id', 'Species', True)\n",
    "print(X.head())\n",
    "print(y[:5])\n",
    "\n",
    "# Test function: Do not remove\n",
    "# tips: this is how to create dataset using pandas\n",
    "d_ex = {'ID':     [  1,   2,   3,    4,    5,    6,    7],\n",
    "        'Grade':  [3.5, 2.5, 3.0, 3.75, 2.83, 3.95, 2.68],\n",
    "        'Type':   ['A', 'B', 'C',  'A',  'C',  'A',  'B']\n",
    "        }\n",
    "df = pd.DataFrame (d_ex, columns = ['ID','Grade', 'Type'])\n",
    "df.to_csv('out.csv', index=False)\n",
    "\n",
    "Xtest, ytest = load_data('out.csv', 'ID', 'Type')\n",
    "assert len(Xtest.columns) == 1, 'number of X_columns incorrect (1)'\n",
    "assert ytest.name == 'Type', 'Extract y_column is incorrect (1)'\n",
    "assert ytest.shape == (7,), 'number of y is incorrect (1)'\n",
    "assert 'Grade' in Xtest.columns, 'Incorrect columns in X (1)'\n",
    "Xtest, ytest = load_data('out.csv', None, 'Type')\n",
    "assert len(Xtest.columns) == 2, 'number of X_columns incorrect (2)'\n",
    "assert ytest.name == 'Type', 'Extract y_column is incorrect (2)'\n",
    "assert ytest.shape == (7,), 'number of y is incorrect (2)'\n",
    "assert 'Grade' in Xtest.columns and 'ID' in Xtest.columns, 'Incorrect columns in X (2)'\n",
    "import os\n",
    "os.remove('out.csv')\n",
    "\n",
    "assert len(X.columns) == 4, 'number of X_columns incorrect (3)'\n",
    "assert 'SepalWidthCm' in X.columns and 'Id' not in X.columns and 'Species' not in X.columns, 'Incorrect columns in X (3)'\n",
    "assert y.name == 'Species', 'Extract y_column is incorrect (3)'\n",
    "assert y.shape == (150,), 'number of y is incorrect (3)'\n",
    "\n",
    "print(\"success!\")\n",
    "# End Test function"
   ]
  },
  {
   "cell_type": "markdown",
   "metadata": {
    "deletable": false,
    "editable": false,
    "nbgrader": {
     "cell_type": "markdown",
     "checksum": "a30e2254d1c1f2935402bbb25f7cbf8c",
     "grade": false,
     "grade_id": "cell-2549563cd9338d95",
     "locked": true,
     "schema_version": 3,
     "solution": false,
     "task": false
    }
   },
   "source": [
    "**Expected result**: \\\n",
    "   SepalLengthCm  SepalWidthCm  PetalLengthCm  PetalWidthCm \\\n",
    "0            5.1           3.5            1.4           0.2\\\n",
    "1            4.9           3.0            1.4           0.2\\\n",
    "2            4.7           3.2            1.3           0.2\\\n",
    "3            4.6           3.1            1.5           0.2\\\n",
    "4            5.0           3.6            1.4           0.2\\\n",
    "0    Iris-setosa\\\n",
    "1    Iris-setosa\\\n",
    "2    Iris-setosa\\\n",
    "3    Iris-setosa\\\n",
    "4    Iris-setosa\\\n",
    "Name: Species, dtype: object"
   ]
  },
  {
   "cell_type": "markdown",
   "metadata": {
    "deletable": false,
    "editable": false,
    "nbgrader": {
     "cell_type": "markdown",
     "checksum": "1bce059019c7763d77c2f095596f67ec",
     "grade": false,
     "grade_id": "cell-507051f801249765",
     "locked": true,
     "schema_version": 3,
     "solution": false,
     "task": false
    }
   },
   "source": [
    "## Exercise 1.2 (10 points)\n",
    "\n",
    "Partition data into training and test sets\n",
    "- No need to use random.seed function!\n",
    "- Ensure that the train set is 70% and the test set is 30% of the data.\n",
    "- Encode the labels in the y attribute to be integers in the range 0..k-1.\n",
    "\n",
    "<details>\n",
    "    <summary><font size=\"3\" color=\"green\"><b>Hint:</b></font></summary>\n",
    "    You can use the <tt>partition</tt> function from lab02 if you like\n",
    "    <p></p>\n",
    "    <a href=\"https://pandas.pydata.org/pandas-docs/stable/reference/api/pandas.DataFrame.iloc.html\">panda.iloc</a> must be used to extract data from an index list\n",
    "    <p></p>\n",
    "    <a href=\"https://pandas.pydata.org/docs/reference/api/pandas.unique.html\">panda.unique</a> will give you the set of unique labels\n",
    "</details>"
   ]
  },
  {
   "cell_type": "code",
   "execution_count": 7,
   "metadata": {
    "deletable": false,
    "nbgrader": {
     "cell_type": "code",
     "checksum": "4b840baf518302ae39dee4e9325d912d",
     "grade": false,
     "grade_id": "cell-eb7e4dd82f395754",
     "locked": false,
     "schema_version": 3,
     "solution": true,
     "task": false
    }
   },
   "outputs": [],
   "source": [
    "def partition(X, y, percent_train):\n",
    "    \n",
    "    y_labels_name = None\n",
    "    y_labels_new = None\n",
    "    \n",
    "    # 1. create index list\n",
    "    idx = np.arange(0,y.shape[0])\n",
    "    \n",
    "    # 2. shuffle index\n",
    "    random.shuffle(idx) \n",
    "    \n",
    "    # 3. Create train/test index\n",
    "    train_idx = idx[0:int(percent_train*X.shape[0])] \n",
    "    test_idx = idx[len(train_idx):len(idx)+1]\n",
    "    \n",
    "    # 4. Separate X_Train, y_train, X_test, y_test\n",
    "    X_train = X.iloc[train_idx]\n",
    "    X_test = X.iloc[test_idx]\n",
    "    y_train = y.iloc[train_idx]\n",
    "    y_test = y.iloc[test_idx]\n",
    "\n",
    "    # 5. Get y_labels_name from y using pandas.unique function\n",
    "    y_labels_name = pd.unique(y)\n",
    "    \n",
    "    # 6. Change y_labels_name into string number and put into y_labels_new\n",
    "    y_labels_new, _ = pd.factorize(y_labels_name)\n",
    "    \n",
    "    # 7. Drop shuffle index columns\n",
    "    #     - pandas.reset_index() and pandas.drop(...) might be help\n",
    "    X_train.reset_index(inplace=True, drop=True)\n",
    "    X_test.reset_index(inplace=True, drop=True)\n",
    "    y_train.replace(to_replace=['Iris-setosa', 'Iris-versicolor', 'Iris-virginica'], value=[0, 1, 2], inplace=True)\n",
    "    y_test.replace(to_replace=['Iris-setosa', 'Iris-versicolor', 'Iris-virginica'], value=[0, 1, 2], inplace=True)\n",
    "    y_train.reset_index(drop=True, inplace=True)\n",
    "    y_test.reset_index(drop=True, inplace=True)\n",
    "    \n",
    "    return idx, X_train, y_train, X_test, y_test, y_labels_name, y_labels_new"
   ]
  },
  {
   "cell_type": "code",
   "execution_count": 8,
   "metadata": {
    "deletable": false,
    "editable": false,
    "nbgrader": {
     "cell_type": "code",
     "checksum": "d6dd3918ae4421e104c8fe2687322be6",
     "grade": true,
     "grade_id": "cell-57199b8ae505edd8",
     "locked": true,
     "points": 10,
     "schema_version": 3,
     "solution": false,
     "task": false
    }
   },
   "outputs": [
    {
     "name": "stdout",
     "output_type": "stream",
     "text": [
      "X_train.shape (105, 4)\n",
      "X_test.shape (45, 4)\n",
      "y_train.shape (105,)\n",
      "y_test.shape (45,)\n",
      "y_labels_name:  ['Iris-setosa' 'Iris-versicolor' 'Iris-virginica']\n",
      "y_labels_new:  [0 1 2]\n",
      "   SepalLengthCm  SepalWidthCm  PetalLengthCm  PetalWidthCm\n",
      "0            5.1           3.5            1.4           0.2\n",
      "1            5.4           3.9            1.7           0.4\n",
      "2            6.4           3.1            5.5           1.8\n",
      "3            5.5           2.6            4.4           1.2\n",
      "4            4.7           3.2            1.6           0.2\n",
      "0    0\n",
      "1    0\n",
      "2    2\n",
      "3    1\n",
      "4    0\n",
      "Name: Species, dtype: int64\n",
      "success!\n"
     ]
    }
   ],
   "source": [
    "percent_train = 0.7\n",
    "idx, X_train, y_train, X_test, y_test, y_labels_name, y_labels_new = partition(X, y, percent_train)\n",
    "print('X_train.shape', X_train.shape)\n",
    "print('X_test.shape', X_test.shape)\n",
    "print('y_train.shape', y_train.shape)\n",
    "print('y_test.shape', y_test.shape)\n",
    "print('y_labels_name: ', y_labels_name)\n",
    "print('y_labels_new: ', y_labels_new)\n",
    "print(X_train.head())\n",
    "print(y_train.head())\n",
    "\n",
    "# Test function: Do not remove\n",
    "assert len(y_labels_name) == 3 and len(y_labels_new) == 3, 'number of y uniques are incorrect'\n",
    "assert X_train.shape == (105, 4), 'Size of X_train is incorrect'\n",
    "assert X_test.shape == (45, 4), 'Size of x_test is incorrect'\n",
    "assert y_train.shape == (105, ), 'Size of y_train is incorrect'\n",
    "assert y_test.shape == (45, ), 'Size of y_test is incorrect'\n",
    "assert 'Iris-setosa' in y_labels_name and 'Iris-virginica' in y_labels_name and \\\n",
    "        'Iris-versicolor' in y_labels_name, 'y unique data incorrect'\n",
    "assert min(y_labels_new) == 0 and max(y_labels_new) < 3, 'label indices are incorrect'\n",
    "\n",
    "print(\"success!\")\n",
    "# End Test function"
   ]
  },
  {
   "cell_type": "markdown",
   "metadata": {
    "deletable": false,
    "editable": false,
    "nbgrader": {
     "cell_type": "markdown",
     "checksum": "b9470594d08018205e3db8c74957f49d",
     "grade": false,
     "grade_id": "cell-ce816c5bfbade0a9",
     "locked": true,
     "schema_version": 3,
     "solution": false,
     "task": false
    }
   },
   "source": [
    "**Expected result**: <span style=\"color:blue\">(*or similar*)</span>\\\n",
    "X_train.shape (105, 4)\\\n",
    "X_test.shape (45, 4)\\\n",
    "y_train.shape (105,)\\\n",
    "y_test.shape (45,)\\\n",
    "y_labels_name:  ['Iris-setosa' 'Iris-versicolor' 'Iris-virginica'] \\\n",
    "y_labels_new:  [0, 1, 2]\n",
    "\n",
    "SepalLengthCm  SepalWidthCm  PetalLengthCm  PetalWidthCm\\\n",
    "0            6.4           2.8            5.6           2.2\\\n",
    "1            6.7           3.3            5.7           2.1\\\n",
    "2            4.6           3.4            1.4           0.3\\\n",
    "3            5.1           3.8            1.5           0.3\\\n",
    "4            5.0           2.3            3.3           1.0\\\n",
    "   Species\\\n",
    "0        2\\\n",
    "1        2\\\n",
    "2        0\\\n",
    "3        0\\\n",
    "4        1"
   ]
  },
  {
   "cell_type": "markdown",
   "metadata": {},
   "source": [
    "## Exercise 1.3 (5 points)\n",
    "\n",
    "Train your classification model using the `gradient_descent` function already provided.\n",
    "You might also play around with the gradient descent function to see if you can speed it up!"
   ]
  },
  {
   "cell_type": "code",
   "execution_count": 9,
   "metadata": {
    "deletable": false,
    "nbgrader": {
     "cell_type": "code",
     "checksum": "ad783130ff0cfdf82d485d403ec273e9",
     "grade": false,
     "grade_id": "cell-45133326ee8336fd",
     "locked": false,
     "schema_version": 3,
     "solution": true,
     "task": false
    }
   },
   "outputs": [],
   "source": [
    "# num_class is the number of unique labels\n",
    "num_class = len(y_labels_name)\n",
    "\n",
    "if (X_train.shape[1] == X.shape[1]): \n",
    "    X_train.insert(0, \"intercept\", 1)\n",
    "\n",
    "# Reset m and n for training data\n",
    "r, c = X_train.shape\n",
    "\n",
    "# Initialize theta for each class\n",
    "theta_initial = np.ones((num_class, c))\n",
    "\n",
    "alpha = .05\n",
    "iterations = 200\n",
    "\n",
    "theta = theta_initial\n",
    "# Logistic regression\n",
    "theta = gradient_descent(X_train, y_train, theta, alpha, iterations, num_class)"
   ]
  },
  {
   "cell_type": "code",
   "execution_count": 10,
   "metadata": {
    "deletable": false,
    "editable": false,
    "nbgrader": {
     "cell_type": "code",
     "checksum": "292c4d2939100e64e43e00eaa1103c99",
     "grade": true,
     "grade_id": "cell-4df1fd593dc59103",
     "locked": true,
     "points": 5,
     "schema_version": 3,
     "solution": false,
     "task": false
    }
   },
   "outputs": [
    {
     "name": "stdout",
     "output_type": "stream",
     "text": [
      "[[ 1.15553144  1.3067307   1.84646677 -0.1947589   0.44594172]\n",
      " [ 1.10326194  1.18280248  0.75157362  1.18156404  0.8100112 ]\n",
      " [ 0.74120662  0.51046682  0.40195962  2.01319486  1.74404707]]\n",
      "(3, 5)\n",
      "success!\n"
     ]
    }
   ],
   "source": [
    "print(theta)\n",
    "print(theta.shape)\n",
    "\n",
    "# Test function: Do not remove\n",
    "assert theta.shape == (3, 5), 'Size of theta is incorrect'\n",
    "\n",
    "print(\"success!\")\n",
    "# End Test function"
   ]
  },
  {
   "cell_type": "markdown",
   "metadata": {},
   "source": [
    "**Expected result**: <span style=\"color:blue\">(*or similar*)</span>\\\n",
    "[[ 1.17632192  1.32360047  1.83204165 -0.20224445  0.44039155]\\\n",
    " [ 1.10140069  1.13537321  0.74833178  1.21907866  0.82567377]\\\n",
    " [ 0.72227738  0.54102632  0.41962657  1.98316579  1.73393467]]\\\n",
    "\\\n",
    "(3, 5)"
   ]
  },
  {
   "cell_type": "markdown",
   "metadata": {
    "deletable": false,
    "editable": false,
    "nbgrader": {
     "cell_type": "markdown",
     "checksum": "77824201280c79436622012608de3e2f",
     "grade": false,
     "grade_id": "cell-1fb529e9485db8ed",
     "locked": true,
     "schema_version": 3,
     "solution": false,
     "task": false
    }
   },
   "source": [
    "## Exercise 1.4 (5 points)\n",
    "\n",
    "Let's get your model to make predictions on the test data."
   ]
  },
  {
   "cell_type": "code",
   "execution_count": 11,
   "metadata": {
    "deletable": false,
    "nbgrader": {
     "cell_type": "code",
     "checksum": "348bc255367b5cbda2244eac6b1e9af7",
     "grade": false,
     "grade_id": "cell-ca9bee3cf3b6f596",
     "locked": false,
     "schema_version": 3,
     "solution": true,
     "task": false
    }
   },
   "outputs": [],
   "source": [
    "# Prediction on test data \n",
    "\n",
    "if (X_test.shape[1] == X.shape[1]): \n",
    "    X_test.insert(0, \"intercept\", 1)\n",
    "\n",
    "# Reset m and n for test data\n",
    "r,c = X_test.shape\n",
    "\n",
    "y_pred = []\n",
    "for index,row in X_test.iterrows(): # get a row of X_test data\n",
    "    # calculate y_hat using hypothesis function\n",
    "    y_hat = h(row, theta, num_class)\n",
    "    # find the index (integer value) of maximum value in y_hat and input back to prediction\n",
    "    prediction = int(np.argmax(y_hat))\n",
    "    # collect the result\n",
    "    y_pred.append(prediction)"
   ]
  },
  {
   "cell_type": "code",
   "execution_count": 12,
   "metadata": {
    "deletable": false,
    "editable": false,
    "nbgrader": {
     "cell_type": "code",
     "checksum": "d842201bd3b0bc078ed88a2ad3be3ba5",
     "grade": true,
     "grade_id": "cell-eb837dfbea00f88e",
     "locked": true,
     "points": 5,
     "schema_version": 3,
     "solution": false,
     "task": false
    }
   },
   "outputs": [
    {
     "name": "stdout",
     "output_type": "stream",
     "text": [
      "45\n",
      "[2, 2, 0, 2, 0, 1, 2]\n",
      "<class 'int'>\n",
      "success!\n"
     ]
    }
   ],
   "source": [
    "print(len(y_pred))\n",
    "print(y_pred[:7])\n",
    "print(type(y_pred[0]))\n",
    "\n",
    "# Test function: Do not remove\n",
    "assert len(y_pred) == 45, 'Size of y_pred is incorrect'\n",
    "assert isinstance(y_pred[0], int) and isinstance(y_pred[15], int) and isinstance(y_pred[17], int), 'prediction type is incorrect'\n",
    "assert max(y_pred) < 3 and min(y_pred) >= 0, 'wrong index of y_pred'\n",
    "\n",
    "print(\"success!\")\n",
    "# End Test function"
   ]
  },
  {
   "cell_type": "markdown",
   "metadata": {
    "deletable": false,
    "editable": false,
    "nbgrader": {
     "cell_type": "markdown",
     "checksum": "f16868d1301850a213dcca08f77f9d99",
     "grade": false,
     "grade_id": "cell-e6c4ecd254dffa16",
     "locked": true,
     "schema_version": 3,
     "solution": false,
     "task": false
    }
   },
   "source": [
    "**Expected result**: <span style=\"color:blue\">(*or similar*)</span>\\\n",
    "45 \\\n",
    "[2, 0, 2, 0, 0, 0, 2] \\\n",
    "<class 'int'>"
   ]
  },
  {
   "cell_type": "markdown",
   "metadata": {},
   "source": [
    "## Exercise 1.5 (5 points)\n",
    "\n",
    "Estimate accuracy of model on test data\n",
    "\n",
    "$$\\text{accuracy} = \\frac{\\text{number of correct test predictions}}{m_{\\text{test}}}$$"
   ]
  },
  {
   "cell_type": "code",
   "execution_count": 13,
   "metadata": {
    "deletable": false,
    "nbgrader": {
     "cell_type": "code",
     "checksum": "5e98a0ca8a59bcc91e4e98134994357c",
     "grade": false,
     "grade_id": "cell-e55c1db91fb8e2c2",
     "locked": false,
     "schema_version": 3,
     "solution": true,
     "task": false
    }
   },
   "outputs": [],
   "source": [
    "def calc_accuracy(y_test, y_pred):\n",
    "    accuracy = None\n",
    "    correct = 0\n",
    "    for i in range (len(y_pred)):\n",
    "        if y_pred[i] == y_test[i]:\n",
    "            correct += 1\n",
    "    accuracy = correct/r #r is X_test.shape[0]\n",
    "    return accuracy"
   ]
  },
  {
   "cell_type": "code",
   "execution_count": 14,
   "metadata": {
    "deletable": false,
    "editable": false,
    "nbgrader": {
     "cell_type": "code",
     "checksum": "9e60eaa0a604ec38ec10b318709f16d2",
     "grade": true,
     "grade_id": "cell-3c242c8ceb36bdde",
     "locked": true,
     "points": 5,
     "schema_version": 3,
     "solution": false,
     "task": false
    }
   },
   "outputs": [
    {
     "name": "stdout",
     "output_type": "stream",
     "text": [
      "Accuracy: 0.9778\n",
      "success!\n"
     ]
    }
   ],
   "source": [
    "accuracy = calc_accuracy(y_test, y_pred)\n",
    "print('Accuracy: %.4f' % accuracy)\n",
    "\n",
    "# Test function: Do not remove\n",
    "assert isinstance(accuracy, float), 'accuracy should be floating point'\n",
    "assert accuracy >= 0.8, 'Did you train the data?'\n",
    "\n",
    "print(\"success!\")\n",
    "# End Test function"
   ]
  },
  {
   "cell_type": "markdown",
   "metadata": {
    "deletable": false,
    "editable": false,
    "nbgrader": {
     "cell_type": "markdown",
     "checksum": "bb73f150e4d32690d39ea62b36681d0e",
     "grade": false,
     "grade_id": "cell-c6ce114f4e28eb00",
     "locked": true,
     "schema_version": 3,
     "solution": false,
     "task": false
    }
   },
   "source": [
    "**Expected result**: should be at least 0.8!"
   ]
  },
  {
   "cell_type": "markdown",
   "metadata": {
    "deletable": false,
    "editable": false,
    "nbgrader": {
     "cell_type": "markdown",
     "checksum": "409feaa976ebc15fa25dd29cb7f225de",
     "grade": false,
     "grade_id": "cell-766aea2be684caa1",
     "locked": true,
     "schema_version": 3,
     "solution": false,
     "task": false
    }
   },
   "source": [
    "## On your own in lab\n",
    "\n",
    "We will do the following in lab:\n",
    "1. Write a function to obtain the cost for particular $\\mathtt{X}$, $\\mathbf{y}$, and $\\theta$.\n",
    "2. Plot the training set and test cost as training goes on and find the best value for the number of iterations and learning rate.\n",
    "3. Make 2D scatter plots showing the predicted and actual class of each item in the training set, plotting two features at a time.\n",
    "   Comment on the cause of the errors you observe. If you obtain perfect test set accuracy, re-run the train/test split\n",
    "   and rerun the optimization until you observe some mistaken predictions on the test set.\n"
   ]
  },
  {
   "cell_type": "markdown",
   "metadata": {
    "deletable": false,
    "editable": false,
    "nbgrader": {
     "cell_type": "markdown",
     "checksum": "ea7c241fded47855150e595f8487230e",
     "grade": false,
     "grade_id": "cell-24e9ed62d68b8af8",
     "locked": true,
     "schema_version": 3,
     "solution": false,
     "task": false
    }
   },
   "source": [
    "## Exercise 2.1 (15 points)\n",
    "\n",
    "1. Write a function to obtain the cost for particular $\\mathtt{X}$, $\\mathbf{y}$, and $\\theta$.\n",
    "   Name your function `my_J()` and implement\n",
    "\n",
    "$$ J_j = -\\delta(y, j)\\log{\\phi_j} $$\n"
   ]
  },
  {
   "cell_type": "code",
   "execution_count": 15,
   "metadata": {
    "deletable": false,
    "nbgrader": {
     "cell_type": "code",
     "checksum": "7bae968c2f17079d9772c6a7fc4dabde",
     "grade": false,
     "grade_id": "cell-09504f5f2f8c3576",
     "locked": false,
     "schema_version": 3,
     "solution": true,
     "task": false
    }
   },
   "outputs": [],
   "source": [
    "def my_J(theta, X, y, j, num_class):\n",
    "#     print('indicator returns:',indicator(y,j))\n",
    "#     print('phi returns:', -np.log(phi(j, theta, X, num_class)))\n",
    "    cost = indicator(y,j)*-np.log(phi(j, theta, X, num_class))\n",
    "#     print('cost:', cost)\n",
    "    return cost"
   ]
  },
  {
   "cell_type": "code",
   "execution_count": 16,
   "metadata": {
    "deletable": false,
    "editable": false,
    "nbgrader": {
     "cell_type": "code",
     "checksum": "c99e4d6e2e754a96be6e7d37d9bb7149",
     "grade": true,
     "grade_id": "cell-fbcbb4e3e0175f5b",
     "locked": true,
     "points": 5,
     "schema_version": 3,
     "solution": false,
     "task": false
    }
   },
   "outputs": [
    {
     "name": "stdout",
     "output_type": "stream",
     "text": [
      "success!\n"
     ]
    }
   ],
   "source": [
    "# Test function: Do not remove\n",
    "m, n = X_train.shape\n",
    "test_theta = np.ones((3, n))  \n",
    "cost = my_J(test_theta, X_train.loc[10], y_train[10], 0, 3)\n",
    "assert isinstance(cost, float), 'cost should be floating point'\n",
    "\n",
    "print(\"success!\")\n",
    "# End Test function"
   ]
  },
  {
   "cell_type": "markdown",
   "metadata": {
    "deletable": false,
    "editable": false,
    "nbgrader": {
     "cell_type": "markdown",
     "checksum": "5c398c965785889ee0a06aeb84a0b80d",
     "grade": false,
     "grade_id": "cell-34c143689212aef1",
     "locked": true,
     "schema_version": 3,
     "solution": false,
     "task": false
    }
   },
   "source": [
    "2. Implement <code>my_grad_cost</code> using your <code>my_J</code> function"
   ]
  },
  {
   "cell_type": "code",
   "execution_count": 17,
   "metadata": {
    "deletable": false,
    "nbgrader": {
     "cell_type": "code",
     "checksum": "cd8bd33416294c869c6e5e6799e706af",
     "grade": false,
     "grade_id": "cell-4ceb8af01bd22e41",
     "locked": false,
     "schema_version": 3,
     "solution": true,
     "task": false
    }
   },
   "outputs": [],
   "source": [
    "def my_grad_cost(X, y, j, theta, num_class):\n",
    "    \n",
    "    m, n = X.shape\n",
    "    sum = np.array([0 for i in range(0,n)])\n",
    "    cost = 0\n",
    "    for i in range(0, m):\n",
    "        p = indicator(y[i], j) - phi(j, theta, X.loc[i], num_class)\n",
    "        cost = cost + my_J(theta, X.loc[i], y.loc[i],j, num_class)\n",
    "        sum = sum + (X.loc[i] * p)  \n",
    "    grad = -sum/m\n",
    "    return grad, cost"
   ]
  },
  {
   "cell_type": "code",
   "execution_count": 18,
   "metadata": {
    "deletable": false,
    "editable": false,
    "nbgrader": {
     "cell_type": "code",
     "checksum": "561dddd2c0890a5871cd9a93ba403271",
     "grade": true,
     "grade_id": "cell-0c59178b69fc0e79",
     "locked": true,
     "points": 5,
     "schema_version": 3,
     "solution": false,
     "task": false
    }
   },
   "outputs": [
    {
     "name": "stdout",
     "output_type": "stream",
     "text": [
      "intercept        0.019048\n",
      "SepalLengthCm    0.366667\n",
      "SepalWidthCm    -0.079683\n",
      "PetalLengthCm    0.803810\n",
      "PetalWidthCm     0.329524\n",
      "dtype: float64\n",
      "36.25420552604763\n",
      "success!\n"
     ]
    }
   ],
   "source": [
    "# Test function: Do not remove\n",
    "m, n = X_train.shape\n",
    "test_theta = np.ones((3, n))  \n",
    "grad, cost = my_grad_cost(X_train, y_train, 0, test_theta, num_class)\n",
    "print(grad)\n",
    "print(cost)\n",
    "assert isinstance(cost, float), 'cost should be floating point'\n",
    "assert isinstance(grad['intercept'], float) and \\\n",
    "        isinstance(grad['SepalLengthCm'], float) and \\\n",
    "        isinstance(grad['SepalWidthCm'], float) and \\\n",
    "        isinstance(grad['PetalLengthCm'], float) and \\\n",
    "        isinstance(grad['PetalWidthCm'], float) , 'grad should be floating point'\n",
    "print(\"success!\")\n",
    "# End Test function"
   ]
  },
  {
   "cell_type": "markdown",
   "metadata": {
    "deletable": false,
    "editable": false,
    "nbgrader": {
     "cell_type": "markdown",
     "checksum": "3a7669c774b0a3bf8c73ff1a0434fe62",
     "grade": false,
     "grade_id": "cell-97b876dfa85ff5bc",
     "locked": true,
     "schema_version": 3,
     "solution": false,
     "task": false
    }
   },
   "source": [
    "**Expect result**: <span style=\"color:blue\">(*or similar*)</span>\\\n",
    "intercept        0.009524\\\n",
    "SepalLengthCm    0.316825\\\n",
    "SepalWidthCm    -0.091429\\\n",
    "PetalLengthCm    0.780000\\\n",
    "PetalWidthCm     0.329524\\\n",
    "dtype: float64\\\n",
    "37.352817814715735"
   ]
  },
  {
   "cell_type": "markdown",
   "metadata": {
    "deletable": false,
    "editable": false,
    "nbgrader": {
     "cell_type": "markdown",
     "checksum": "3d80cb7d40135eec5790ae5a8f5af7cf",
     "grade": false,
     "grade_id": "cell-32f708e7578beca7",
     "locked": true,
     "schema_version": 3,
     "solution": false,
     "task": false
    }
   },
   "source": [
    "3. Implement <code>my_gradient_descent</code> using your <code>my_grad_cost</code> function"
   ]
  },
  {
   "cell_type": "code",
   "execution_count": 19,
   "metadata": {
    "deletable": false,
    "nbgrader": {
     "cell_type": "code",
     "checksum": "8b2a20ca1f35b23f2f6226e644a123a0",
     "grade": false,
     "grade_id": "cell-68841cb78e91028a",
     "locked": false,
     "schema_version": 3,
     "solution": true,
     "task": false
    }
   },
   "outputs": [],
   "source": [
    "def my_gradient_descent(X, y, theta, alpha, iters, num_class):        \n",
    "    cost_arr = []\n",
    "    for iteration in range(iters):\n",
    "        total_cost = 0\n",
    "        for j in range(0, num_class):\n",
    "            grad, cost = my_grad_cost(X, y, j, theta_initial, num_class)\n",
    "            theta[j] = theta[j] - alpha * grad\n",
    "            total_cost = total_cost + cost\n",
    "        cost_arr.append(total_cost)\n",
    "    return theta, cost_arr\n"
   ]
  },
  {
   "cell_type": "code",
   "execution_count": 20,
   "metadata": {
    "deletable": false,
    "editable": false,
    "nbgrader": {
     "cell_type": "code",
     "checksum": "5a352fdcab8656502c0f241b436d3966",
     "grade": true,
     "grade_id": "cell-8b7f6daed2ecf043",
     "locked": true,
     "points": 5,
     "schema_version": 3,
     "solution": false,
     "task": false
    }
   },
   "outputs": [
    {
     "name": "stdout",
     "output_type": "stream",
     "text": [
      "[[0.99992217 0.9982734  1.00045019 0.99605772 0.99837818]\n",
      " [1.00013307 1.00086403 0.99988824 1.00129084 1.00035245]\n",
      " [0.99994022 1.0008347  0.99964809 1.00263131 1.00126259]]\n",
      "[115.22945478585686, 115.08727134249335, 114.94833433166468, 114.8125039530024, 114.67964695603982]\n",
      "success!\n"
     ]
    }
   ],
   "source": [
    "# Test function: Do not remove\n",
    "m, n = X_train.shape\n",
    "test_theta = np.ones((3, n))  \n",
    "theta, cost = my_gradient_descent(X_train, y_train, theta_initial, 0.001, 5, 3)\n",
    "print(theta)\n",
    "print(cost)\n",
    "print(\"success!\")\n",
    "# End Test function"
   ]
  },
  {
   "cell_type": "markdown",
   "metadata": {
    "deletable": false,
    "editable": false,
    "nbgrader": {
     "cell_type": "markdown",
     "checksum": "93a06956cbd8e8cf4b2f7b32643cd4b8",
     "grade": false,
     "grade_id": "cell-44224271d398a147",
     "locked": true,
     "schema_version": 3,
     "solution": false,
     "task": false
    }
   },
   "source": [
    "**Expected result**: <span style=\"color:blue\">(*or similar*)</span>\\\n",
    "[[1.00001186 0.99618853 1.00183642 0.9889817  0.99528923]\\\n",
    " [1.00009697 1.0011823  0.99883395 1.00316763 1.00083055]\\\n",
    " [0.99987915 1.00255606 0.99929351 1.00779768 1.00386218]]\\\n",
    "[114.00099216453735, 113.89036233839263, 113.78163144339288, 113.67472269747496, 113.56956268162737]\\\n",
    "37.352817814715735"
   ]
  },
  {
   "cell_type": "markdown",
   "metadata": {
    "deletable": false,
    "editable": false,
    "nbgrader": {
     "cell_type": "markdown",
     "checksum": "ba2df6557c59fe3a224ab91188067727",
     "grade": false,
     "grade_id": "cell-8c6718d263bf7786",
     "locked": true,
     "schema_version": 3,
     "solution": false,
     "task": false
    }
   },
   "source": [
    "## Exercise 2.2 (20 points)\n",
    "\n",
    "4. Plot the training set and test cost as training goes on and find the best value for the number of iterations and learning rate.\n",
    "5. Make 2D scatter plots showing the predicted and actual class of each item in the training set, plotting two features at a time.\n",
    "   Comment on the cause of the errors you observe. If you obtain perfect test set accuracy, re-run the train/test split\n",
    "   and rerun the optimization until you observe some mistaken predictions on the test set."
   ]
  },
  {
   "cell_type": "code",
   "execution_count": 21,
   "metadata": {},
   "outputs": [],
   "source": [
    "import matplotlib.pyplot as plt"
   ]
  },
  {
   "cell_type": "code",
   "execution_count": 22,
   "metadata": {
    "deletable": false,
    "nbgrader": {
     "cell_type": "code",
     "checksum": "b4aa679efedc456225c0f84d5646aac6",
     "grade": true,
     "grade_id": "cell-5d97fd557db7438e",
     "locked": false,
     "points": 20,
     "schema_version": 3,
     "solution": true,
     "task": false
    }
   },
   "outputs": [
    {
     "data": {
      "image/png": "[encoded data removed]",
      "text/plain": [
       "<Figure size 432x288 with 1 Axes>"
      ]
     },
     "metadata": {
      "needs_background": "light"
     },
     "output_type": "display_data"
    }
   ],
   "source": [
    "# only did 100 iters for each because TOO LONG\n",
    "theta_arr = []\n",
    "cost_arr = []\n",
    "accuracy_arr = []\n",
    "\n",
    "# design your own learning rate and num iterations\n",
    "alpha_arr = np.array([0.001, 0.01, 0.05, 0.1])\n",
    "iterations_arr = np.array([200, 200, 200, 200])\n",
    "\n",
    "fig = plt.figure()\n",
    "ax = plt.axes()\n",
    "plt.grid(axis='both')\n",
    "\n",
    "\n",
    "for i in range(0, len(alpha_arr)):\n",
    "    theta_initial = np.ones((num_class, n))    \n",
    "    theta, cost = my_gradient_descent(X_train, y_train, theta_initial, alpha_arr[i], iterations_arr[i], num_class)\n",
    "    \n",
    "    y_pred = []\n",
    "    for index,row in X_test.iterrows():\n",
    "        h_matrix = h(row, theta, num_class)\n",
    "        prediction = int(np.where(h_matrix == h_matrix.max())[0])    \n",
    "        y_pred.append(prediction)        \n",
    "    correct = (y_pred == y_test).value_counts()[True]\n",
    "    accuracy = correct/m\n",
    "    plt.plot(range(1,iterations_arr[i]+1), cost, label='alpha:'+str(alpha_arr[i]) +', acc:' + str(np.round(accuracy,4)*100))\n",
    "    accuracy_arr.append(accuracy)\n",
    "    \n",
    "plt.legend()\n",
    "plt.show()"
   ]
  },
  {
   "attachments": {
    "lab4-02.png": {
     "image/png": "[encoded data removed]"
    }
   },
   "cell_type": "markdown",
   "metadata": {
    "deletable": false,
    "editable": false,
    "nbgrader": {
     "cell_type": "markdown",
     "checksum": "0c15b26d416d2baf11b8a9f0695f9ff8",
     "grade": false,
     "grade_id": "cell-708bd0d431aeb436",
     "locked": true,
     "schema_version": 3,
     "solution": false,
     "task": false
    }
   },
   "source": [
    "**Expected result**: <span style=\"color:blue\">(*Yours doesn't have to be the same!*)</span>\n",
    "\n",
    "![lab4-02.png](attachment:lab4-02.png)"
   ]
  },
  {
   "cell_type": "code",
   "execution_count": 23,
   "metadata": {},
   "outputs": [
    {
     "name": "stdout",
     "output_type": "stream",
     "text": [
      "[2, 4, 7, 11, 12, 18, 20, 22, 23, 25, 27, 28, 29, 31, 33, 35, 43]\n",
      "[0, 5, 8, 14, 16, 17, 19, 34, 38, 40, 42, 44]\n",
      "[1, 3, 6, 9, 10, 13, 15, 21, 24, 26, 30, 32, 36, 37, 39, 41]\n",
      "[2, 4, 7, 11, 12, 18, 20, 22, 23, 25, 27, 28, 29, 31, 33, 35, 43]\n",
      "[0, 5, 8, 14, 16, 17, 19, 34, 38, 40, 42, 44]\n",
      "[1, 3, 6, 9, 10, 13, 15, 21, 24, 26, 30, 32, 36, 37, 39, 41]\n"
     ]
    }
   ],
   "source": [
    "def idx(y_pred,y_test,_class):\n",
    "    idx_class_pred = []\n",
    "    idx_class_test = []\n",
    "    for i in range(len(y_pred)):\n",
    "        if y_pred[i] == _class:\n",
    "            idx_class_pred.append(i)\n",
    "    for j in range(len(y_test)):\n",
    "        if y_test[j] == _class:\n",
    "            idx_class_test.append(j)\n",
    "    return idx_class_pred , idx_class_test\n",
    "\n",
    "idx_0_pred, idx_0_test = idx(y_pred,y_test,0)\n",
    "idx_1_pred, idx_1_test = idx(y_pred,y_test,1)\n",
    "idx_2_pred, idx_2_test = idx(y_pred,y_test,2)\n",
    "\n",
    "print(idx_0_pred)\n",
    "print(idx_1_pred)\n",
    "print(idx_2_pred)\n",
    "\n",
    "print(idx_0_test)\n",
    "print(idx_1_test)\n",
    "print(idx_2_test)"
   ]
  },
  {
   "cell_type": "code",
   "execution_count": 24,
   "metadata": {},
   "outputs": [
    {
     "data": {
      "text/plain": [
       "<matplotlib.legend.Legend at 0x7ff35d8e8760>"
      ]
     },
     "execution_count": 24,
     "metadata": {},
     "output_type": "execute_result"
    },
    {
     "data": {
      "image/png": "[encoded data removed]",
      "text/plain": [
       "<Figure size 432x288 with 1 Axes>"
      ]
     },
     "metadata": {
      "needs_background": "light"
     },
     "output_type": "display_data"
    }
   ],
   "source": [
    "plt.scatter(X_test['SepalLengthCm'].iloc[idx_0_pred],X_test['SepalWidthCm'].iloc[idx_0_pred],s=50, c='red', marker='*', label='Iris-virginica pred')\n",
    "plt.scatter(X_test['SepalLengthCm'].iloc[idx_0_test],X_test['SepalWidthCm'].iloc[idx_0_test],s=10, c='blue', marker='*', label='Iris-virginica actual')\n",
    "plt.scatter(X_test['SepalLengthCm'].iloc[idx_1_pred],X_test['SepalWidthCm'].iloc[idx_1_pred],s=50, c='pink', marker='o', label='Iris-setosa pred')\n",
    "plt.scatter(X_test['SepalLengthCm'].iloc[idx_1_test],X_test['SepalWidthCm'].iloc[idx_1_test],s=10, c='green', marker='o', label='Iris-setosa actual')\n",
    "plt.scatter(X_test['SepalLengthCm'].iloc[idx_2_pred],X_test['SepalWidthCm'].iloc[idx_2_pred],s=50, c='yellow', marker='x', label='Iris-versicolor pred')\n",
    "plt.scatter(X_test['SepalLengthCm'].iloc[idx_2_test],X_test['SepalWidthCm'].iloc[idx_2_test],s=10, c='black', marker='x', label='Iris-versicolor actual')\n",
    "plt.title(\"Sepal length VS width\")\n",
    "plt.legend(loc='best')"
   ]
  },
  {
   "cell_type": "code",
   "execution_count": 25,
   "metadata": {},
   "outputs": [
    {
     "data": {
      "text/plain": [
       "<matplotlib.legend.Legend at 0x7ff35b747cd0>"
      ]
     },
     "execution_count": 25,
     "metadata": {},
     "output_type": "execute_result"
    },
    {
     "data": {
      "image/png": "[encoded data removed]",
      "text/plain": [
       "<Figure size 432x288 with 1 Axes>"
      ]
     },
     "metadata": {
      "needs_background": "light"
     },
     "output_type": "display_data"
    }
   ],
   "source": [
    "plt.scatter(X_test['PetalLengthCm'].iloc[idx_0_pred],X_test['PetalWidthCm'].iloc[idx_0_pred],s=50, c='red', marker='*', label='Iris-virginica pred')\n",
    "plt.scatter(X_test['PetalLengthCm'].iloc[idx_0_test],X_test['PetalWidthCm'].iloc[idx_0_test],s=10, c='blue', marker='*', label='Iris-virginica actual')\n",
    "plt.scatter(X_test['PetalLengthCm'].iloc[idx_1_pred],X_test['PetalWidthCm'].iloc[idx_1_pred],s=50, c='pink', marker='o', label='Iris-setosa pred')\n",
    "plt.scatter(X_test['PetalLengthCm'].iloc[idx_1_test],X_test['PetalWidthCm'].iloc[idx_1_test],s=10, c='green', marker='o', label='Iris-setosa actual')\n",
    "plt.scatter(X_test['PetalLengthCm'].iloc[idx_2_pred],X_test['PetalWidthCm'].iloc[idx_2_pred],s=50, c='yellow', marker='x', label='Iris-versicolor pred')\n",
    "plt.scatter(X_test['PetalLengthCm'].iloc[idx_2_test],X_test['PetalWidthCm'].iloc[idx_2_test],s=10, c='black', marker='x', label='Iris-versicolor actual')\n",
    "plt.title(\"Petal length VS width\")\n",
    "plt.legend(loc='best')"
   ]
  },
  {
   "cell_type": "markdown",
   "metadata": {
    "deletable": false,
    "editable": false,
    "nbgrader": {
     "cell_type": "markdown",
     "checksum": "29074975f2f5f4dff65a4c9ccfc006c5",
     "grade": false,
     "grade_id": "cell-11e3be2a06e07677",
     "locked": true,
     "points": 40,
     "schema_version": 3,
     "solution": false,
     "task": true
    }
   },
   "source": [
    "## On your own to take home\n",
    "\n",
    "We see that the Iris dataset is pretty easy. Depending on the train/test split, we get 95-100% accuracy.\n",
    "\n",
    "Find a more interesting multi-class classification problem on Kaggle (Tell the reference), clean the dataset to obtain numerical input features without missing values,\n",
    "split the data into test and train, and experiment with multinomial logistic regression.\n",
    "\n",
    "Write a brief report on your experiments and results. As always, turn in a Jupyter notebook by email\n",
    "to the instructor and TA.\n"
   ]
  },
  {
   "cell_type": "markdown",
   "metadata": {},
   "source": [
    "## REPORT\n",
    "\n",
    "Dataset from Kaggle - https://www.kaggle.com/aungpyaeap/fish-market\n",
    "\n",
    "In these experiements, I learned about how generalized linear models can be used to perform multinomial logistic regression to classify data into more than 2 classes. In the class exercises, the Iris data with 3 classes was used for training and prediction and allowed me to obtain a very high accuracy.\n",
    "\n",
    "In the take-home lab, I, once again, used the fish dataset from Kaggle which classifies 7 different species of fish based on varying lengths, height, width, and weight - 6 features in total. At the end of the experiement, 3 seperate scatter graphs were plotted with each comparing 2 features at a time.\n",
    "\n",
    "I first started by importing the my same functions used in the class lab. Then I imported the .csv file with the fish data, shuffled the samples, standardized the data, and partitioned it into training and testing samples. As the data was imported in as a pandas Dataframe, I was able to quickly check for missing values with is 'isnull()' method but there were no data cleaning required. The output targets (classes) were all encoded to a number from 0 to 6. Then I performed the training with 4 different learning rates and plot the cost of each across the 200 iterations along with each alpha's accuracy. Finally, I made 3 scatter plots showing the predicted and actual class of each item in the training set, plotting two features at a time.Some features were more successful at predicting the right class than others, but overall, the training done produced a respectable model for fish prediction."
   ]
  },
  {
   "cell_type": "code",
   "execution_count": 26,
   "metadata": {},
   "outputs": [],
   "source": [
    "import numpy as np\n",
    "import pandas as pd \n",
    "import random\n",
    "import math\n",
    "import matplotlib.pyplot as plt\n",
    "\n",
    "def phi(i, theta, X, num_class):\n",
    "    \"\"\"\n",
    "    Here is how to make documentation for your function show up in intellisense.\n",
    "    Explanation you put here will be shown when you use it.\n",
    "    \n",
    "    To get intellisense in your Jupyter notebook:\n",
    "        - Press 'TAB' after typing a dot (.) to see methods and attributes\n",
    "        - Press 'Shift+TAB' after typing a function name to see its documentation\n",
    "\n",
    "    The `phi` function returns phi_i = h_theta(x) for input patterns X and parameters theta.\n",
    "    \n",
    "    Inputs:\n",
    "        i=index of phi\n",
    "        \n",
    "        X=input dataset\n",
    "        \n",
    "        theta=parameters\n",
    "\n",
    "    Returns:\n",
    "        phi_i\n",
    "    \"\"\"\n",
    "    mat_theta = np.matrix(theta[i])\n",
    "    mat_x = np.matrix(X)\n",
    "    num = math.exp(np.dot(mat_theta, mat_x.T))\n",
    "    den = 0\n",
    "    for j in range(0,num_class):\n",
    "        mat_theta_j = np.matrix(theta[j])\n",
    "        den = den + math.exp(np.dot(mat_theta_j, mat_x.T))\n",
    "    phi_i = num / den\n",
    "    return phi_i\n",
    "\n",
    "def indicator(i, j):\n",
    "    '''\n",
    "    Check whether i is equal to j\n",
    "    \n",
    "    Return:\n",
    "        1 when i=j, otherwise 0\n",
    "    '''\n",
    "    if i == j: return 1\n",
    "    else: return 0\n",
    "    \n",
    "def my_J(theta, X, y, j, num_class):\n",
    "#     print('indicator returns:',indicator(y,j))\n",
    "#     print('phi returns:', -np.log(phi(j, theta, X, num_class)))\n",
    "    cost = indicator(y,j)*-np.log(phi(j, theta, X, num_class))\n",
    "#     print('cost:', cost)\n",
    "    return cost\n",
    "\n",
    "def my_grad_cost(X, y, j, theta, num_class):\n",
    "    \n",
    "    m, n = X.shape\n",
    "    sum = np.array([0 for i in range(0,n)])\n",
    "    cost = 0\n",
    "    for i in range(0, m):\n",
    "        p = indicator(y[i], j) - phi(j, theta, X.loc[i], num_class)\n",
    "        cost = cost + my_J(theta, X.loc[i], y[i],j, num_class)\n",
    "        sum = sum + (X.loc[i] * p)  \n",
    "    grad = -sum/m\n",
    "    return grad, cost\n",
    "\n",
    "def my_gradient_descent(X, y, theta, alpha, iters, num_class):        \n",
    "    cost_arr = []\n",
    "    for iteration in range(iters):\n",
    "        total_cost = 0\n",
    "        for j in range(0, num_class):\n",
    "            grad, cost = my_grad_cost(X, y, j, theta_initial, num_class)\n",
    "            theta[j] = theta[j] - alpha * grad\n",
    "            total_cost = total_cost + cost\n",
    "        cost_arr.append(total_cost)\n",
    "    return theta, cost_arr\n",
    "\n",
    "def h(X, theta, num_class):\n",
    "    '''\n",
    "    Hypothesis function: h_theta(X) = theta * X\n",
    "    '''\n",
    "    X = np.matrix(X)\n",
    "    h_matrix = np.empty((num_class,1))\n",
    "    den = 0\n",
    "    for j in range(0, num_class):\n",
    "        den = den + math.exp(np.dot(theta[j], X.T))\n",
    "    for i in range(0,num_class):\n",
    "        h_matrix[i] = math.exp(np.dot(theta[i], X.T))\n",
    "    h_matrix = h_matrix / den\n",
    "    return h_matrix"
   ]
  },
  {
   "cell_type": "code",
   "execution_count": 27,
   "metadata": {},
   "outputs": [
    {
     "name": "stdout",
     "output_type": "stream",
     "text": [
      "y.shape: (159,)\n",
      "X\n",
      "      Weight  Length1  Length2  Length3   Height   Width\n",
      "0       0.0     19.0     20.5     22.8   6.4752  3.3516\n",
      "1     110.0     19.0     21.0     22.5   5.6925  3.5550\n",
      "2       9.8     11.4     12.0     13.2   2.2044  1.1484\n",
      "3     510.0     40.0     42.5     45.5   6.8250  4.4590\n",
      "4     140.0     19.0     20.7     23.2   8.5376  3.2944\n",
      "..      ...      ...      ...      ...      ...     ...\n",
      "154    32.0     12.5     13.7     14.7   3.5280  1.9992\n",
      "155   800.0     33.7     36.4     39.6  11.7612  6.5736\n",
      "156   130.0     20.5     22.5     24.0   5.8560  3.6240\n",
      "157     9.9     11.3     11.8     13.1   2.2139  1.1659\n",
      "158   161.0     22.0     23.4     26.7   6.9153  3.6312\n",
      "\n",
      "[159 rows x 6 columns]\n"
     ]
    }
   ],
   "source": [
    "\n",
    "data = pd.read_csv('Fish.csv')\n",
    "# print(data.head())\n",
    "\n",
    "m,n = data.shape\n",
    "idx = np.arange(0,m)\n",
    "random.shuffle(idx)\n",
    "data = data.iloc[idx,:] # randomize data \n",
    "data = data.reset_index() # reinsert index from 0 to m\n",
    "data.drop(['index'], axis=1, inplace=True)\n",
    "# print(data.head())\n",
    "\n",
    "# extract y from data\n",
    "y_label = 'Species';\n",
    "\n",
    "y = data[y_label];\n",
    "# y = np.array(y)\n",
    "print('y.shape:',y.shape)\n",
    "\n",
    "# extract features from data\n",
    "X = data.drop(['Species'], axis=1)\n",
    "print('X\\n',X)\n",
    "\n",
    "X = X.astype(float)"
   ]
  },
  {
   "cell_type": "code",
   "execution_count": 28,
   "metadata": {},
   "outputs": [
    {
     "name": "stdout",
     "output_type": "stream",
     "text": [
      "       Weight   Length1   Length2   Length3    Height     Width\n",
      "0   -1.116227 -0.727266 -0.740994 -0.728122 -0.584125 -0.634269\n",
      "1   -0.807975 -0.727266 -0.694189 -0.754042 -0.767311 -0.513233\n",
      "2   -1.088764 -1.489938 -1.536682 -1.557590 -1.583678 -1.945312\n",
      "3    0.312942  1.380119  1.318435  1.233226 -0.502256  0.024704\n",
      "4   -0.723906 -0.727266 -0.722272 -0.693560 -0.101433 -0.668307\n",
      "..        ...       ...       ...       ...       ...       ...\n",
      "154 -1.026553 -1.379551 -1.377544 -1.427985 -1.273898 -1.439032\n",
      "155  1.125606  0.747904  0.747411  0.723448  0.653030  1.283024\n",
      "156 -0.751929 -0.576738 -0.553773 -0.624438 -0.729044 -0.472174\n",
      "157 -1.088484 -1.499973 -1.555404 -1.566230 -1.581455 -1.934898\n",
      "158 -0.665058 -0.426211 -0.469524 -0.391150 -0.481122 -0.467889\n",
      "\n",
      "[159 rows x 6 columns]\n"
     ]
    }
   ],
   "source": [
    "X_mean = np.mean(X,axis=0)\n",
    "X_std = np.std(X,axis=0)\n",
    "\n",
    "X_norm = (X - X_mean)/X_std\n",
    "print(X_norm)"
   ]
  },
  {
   "cell_type": "code",
   "execution_count": 29,
   "metadata": {},
   "outputs": [
    {
     "name": "stdout",
     "output_type": "stream",
     "text": [
      "(111, 6)\n",
      "(48, 6)\n",
      "(111,)\n",
      "(48,)\n",
      "0      0\n",
      "1      3\n",
      "2      1\n",
      "3      4\n",
      "4      2\n",
      "      ..\n",
      "106    5\n",
      "107    3\n",
      "108    0\n",
      "109    5\n",
      "110    5\n",
      "Name: Species, Length: 111, dtype: object\n"
     ]
    }
   ],
   "source": [
    "m, n = X_norm.shape\n",
    "\n",
    "percent_train = 0.7\n",
    "m_train = int(m*percent_train)\n",
    "\n",
    "X_train = X_norm.iloc[0:m_train, :];\n",
    "X_test = X_norm.iloc[m_train:, :];\n",
    "\n",
    "y_train = y[:m_train];\n",
    "y_test = y[m_train:];\n",
    "labels = pd.unique(y)\n",
    "\n",
    "# encoding targets from 0 to 6\n",
    "i = 0\n",
    "for label in set(y):\n",
    "    y_train[y_train == label] = i\n",
    "    y_test[y_test == label] = i\n",
    "    i = i + 1\n",
    "print(X_train.shape)\n",
    "print(X_test.shape)\n",
    "print(y_train.shape)\n",
    "print(y_test.shape)\n",
    "print(y_train)"
   ]
  },
  {
   "cell_type": "code",
   "execution_count": 30,
   "metadata": {},
   "outputs": [
    {
     "name": "stdout",
     "output_type": "stream",
     "text": [
      "Missing values for train data:\n",
      "------------------------\n",
      " Weight     0\n",
      "Length1    0\n",
      "Length2    0\n",
      "Length3    0\n",
      "Height     0\n",
      "Width      0\n",
      "dtype: int64\n",
      "Missing values for test data \n",
      " ------------------------\n",
      " Weight     0\n",
      "Length1    0\n",
      "Length2    0\n",
      "Length3    0\n",
      "Height     0\n",
      "Width      0\n",
      "dtype: int64\n"
     ]
    }
   ],
   "source": [
    "# No cleaning necessary\n",
    "print('Missing values for train data:\\n------------------------\\n', X_train.isnull().sum())\n",
    "print('Missing values for test data \\n ------------------------\\n', X_test.isnull().sum())\n",
    "# add intercept of zeros on column 0\n",
    "X_train.insert(0, \"intercept\", 1)\n",
    "X_test.insert(0, \"intercept\", 1)"
   ]
  },
  {
   "cell_type": "code",
   "execution_count": 31,
   "metadata": {},
   "outputs": [],
   "source": [
    "# m, n = X_train.shape\n",
    "# k = len(set(y)) # 7 classes\n",
    "# theta_initial = np.ones((k,n)) # initialize theta\n",
    "\n",
    "# alpha = .05\n",
    "# iterations = 300\n",
    "\n",
    "# theta, cost = my_gradient_descent(X_train, y_train, theta_initial, alpha, iterations, k)"
   ]
  },
  {
   "cell_type": "code",
   "execution_count": 32,
   "metadata": {},
   "outputs": [],
   "source": [
    "# plt.plot(range(iterations), cost)"
   ]
  },
  {
   "cell_type": "code",
   "execution_count": 33,
   "metadata": {},
   "outputs": [
    {
     "data": {
      "image/png": "[encoded data removed]",
      "text/plain": [
       "<Figure size 432x288 with 1 Axes>"
      ]
     },
     "metadata": {
      "needs_background": "light"
     },
     "output_type": "display_data"
    }
   ],
   "source": [
    "theta_arr = []\n",
    "cost_arr = []\n",
    "accuracy_arr = []\n",
    "\n",
    "m, n = X_train.shape\n",
    "k = len(set(y)) # 7 classes\n",
    "\n",
    "# design your own learning rate and num iterations\n",
    "alpha_arr = np.array([0.001, 0.01, 0.05, 0.1])\n",
    "iterations_arr = np.array([200, 200, 200, 200])\n",
    "\n",
    "fig = plt.figure()\n",
    "ax = plt.axes()\n",
    "plt.grid(axis='both')\n",
    "\n",
    "\n",
    "for i in range(0, len(alpha_arr)):\n",
    "    theta_initial = np.ones((k, n))    \n",
    "    theta, cost = my_gradient_descent(X_train, y_train, theta_initial, alpha_arr[i], iterations_arr[i], k)\n",
    "    \n",
    "    y_pred = []\n",
    "    for index,row in X_test.iterrows():\n",
    "        h_matrix = h(row, theta, k)\n",
    "        prediction = int(np.where(h_matrix == h_matrix.max())[0])    \n",
    "        y_pred.append(prediction)        \n",
    "    correct = (y_pred == y_test).value_counts()[True]\n",
    "    accuracy = correct/m\n",
    "    plt.plot(range(1,iterations_arr[i]+1), cost, label='alpha:'+str(alpha_arr[i]) +', acc:' + str(np.round(accuracy,4)*100))\n",
    "    accuracy_arr.append(accuracy)\n",
    "    \n",
    "plt.legend()\n",
    "plt.show()"
   ]
  },
  {
   "cell_type": "code",
   "execution_count": 34,
   "metadata": {},
   "outputs": [],
   "source": [
    "y_pred1 = np.array(y_pred)\n",
    "y_test1 = y_test.to_numpy() # CHECK"
   ]
  },
  {
   "cell_type": "code",
   "execution_count": 35,
   "metadata": {},
   "outputs": [
    {
     "name": "stdout",
     "output_type": "stream",
     "text": [
      "[]\n",
      "[8, 19, 20, 23, 30, 33, 34, 35, 43, 46]\n",
      "[11]\n",
      "[1, 4, 5, 6, 7, 9, 10, 13, 14, 15, 17, 21, 22, 25, 26, 27, 28, 29, 31, 37, 38, 40, 44, 45, 47]\n",
      "[39, 41, 42]\n",
      "[0, 2, 3, 12, 16, 18, 24, 32, 36]\n",
      "[]\n",
      "[9, 14, 22, 23, 37, 40, 47]\n",
      "[8, 19, 30, 34, 35, 46]\n",
      "[0, 11]\n",
      "[1, 4, 6, 10, 13, 15, 17, 20, 21, 25, 26, 27, 28, 29, 31, 33, 43, 45]\n",
      "[7, 38, 39, 41, 42]\n",
      "[2, 3, 12, 16, 18, 24, 32, 36]\n",
      "[5, 44]\n"
     ]
    }
   ],
   "source": [
    "def idx(y_pred1,y_test1,_class):\n",
    "    idx_class_pred = []\n",
    "    idx_class_test = []\n",
    "    for i in range(len(y_pred1)):\n",
    "        if y_pred1[i] == _class:\n",
    "            idx_class_pred.append(i)\n",
    "    for j in range(len(y_test1)):\n",
    "        if y_test1[j] == _class:\n",
    "            idx_class_test.append(j)\n",
    "    return idx_class_pred , idx_class_test\n",
    "\n",
    "idx_0_pred, idx_0_test = idx(y_pred1,y_test1,0)\n",
    "idx_1_pred, idx_1_test = idx(y_pred1,y_test1,1)\n",
    "idx_2_pred, idx_2_test = idx(y_pred1,y_test1,2)\n",
    "idx_3_pred, idx_3_test = idx(y_pred1,y_test1,3)\n",
    "idx_4_pred, idx_4_test = idx(y_pred1,y_test1,4)\n",
    "idx_5_pred, idx_5_test = idx(y_pred1,y_test1,5)\n",
    "idx_6_pred, idx_6_test = idx(y_pred1,y_test1,6)\n",
    "\n",
    "print(idx_0_pred)\n",
    "print(idx_1_pred)\n",
    "print(idx_2_pred)\n",
    "print(idx_3_pred)\n",
    "print(idx_4_pred)\n",
    "print(idx_5_pred)\n",
    "print(idx_6_pred)\n",
    "\n",
    "print(idx_0_test)\n",
    "print(idx_1_test)\n",
    "print(idx_2_test)\n",
    "print(idx_3_test)\n",
    "print(idx_4_test)\n",
    "print(idx_5_test)\n",
    "print(idx_6_test)"
   ]
  },
  {
   "cell_type": "code",
   "execution_count": 36,
   "metadata": {},
   "outputs": [
    {
     "data": {
      "text/plain": [
       "<matplotlib.legend.Legend at 0x7ff35b663f70>"
      ]
     },
     "execution_count": 36,
     "metadata": {},
     "output_type": "execute_result"
    },
    {
     "data": {
      "image/png": "[encoded data removed]",
      "text/plain": [
       "<Figure size 432x288 with 1 Axes>"
      ]
     },
     "metadata": {
      "needs_background": "light"
     },
     "output_type": "display_data"
    }
   ],
   "source": [
    "plt.scatter(X_test['Weight'].iloc[idx_0_pred],X_test['Length1'].iloc[idx_0_pred],s=50, c='red', marker='*', label='Bream pred')\n",
    "plt.scatter(X_test['Weight'].iloc[idx_0_test],X_test['Length1'].iloc[idx_0_test],s=10, c='blue', marker='*', label='Bream actual')\n",
    "plt.scatter(X_test['Weight'].iloc[idx_1_pred],X_test['Length1'].iloc[idx_1_pred],s=50, c='pink', marker='o', label='Roach pred')\n",
    "plt.scatter(X_test['Weight'].iloc[idx_1_test],X_test['Length1'].iloc[idx_1_test],s=10, c='green', marker='o', label='Roach actual')\n",
    "plt.scatter(X_test['Weight'].iloc[idx_2_pred],X_test['Length1'].iloc[idx_2_pred],s=50, c='yellow', marker='x', label='Whitefish pred')\n",
    "plt.scatter(X_test['Weight'].iloc[idx_2_test],X_test['Length1'].iloc[idx_2_test],s=10, c='black', marker='x', label='Whitefish actual')\n",
    "plt.scatter(X_test['Weight'].iloc[idx_3_pred],X_test['Length1'].iloc[idx_3_pred],s=50, c='red', marker='x', label='Parkki pred')\n",
    "plt.scatter(X_test['Weight'].iloc[idx_3_test],X_test['Length1'].iloc[idx_3_test],s=10, c='blue', marker='x', label='Parkki actual')\n",
    "plt.scatter(X_test['Weight'].iloc[idx_4_pred],X_test['Length1'].iloc[idx_4_pred],s=50, c='pink', marker='*', label='Perch pred')\n",
    "plt.scatter(X_test['Weight'].iloc[idx_4_test],X_test['Length1'].iloc[idx_4_test],s=10, c='green', marker='*', label='Perch actual')\n",
    "plt.scatter(X_test['Weight'].iloc[idx_5_pred],X_test['Length1'].iloc[idx_5_pred],s=50, c='plum', marker='o', label='Pike pred')\n",
    "plt.scatter(X_test['Weight'].iloc[idx_5_test],X_test['Length1'].iloc[idx_5_test],s=10, c='black', marker='o', label='Pike actual')\n",
    "plt.scatter(X_test['Weight'].iloc[idx_6_pred],X_test['Length1'].iloc[idx_6_pred],s=50, c='lawngreen', marker='x', label='Smelt pred')\n",
    "plt.scatter(X_test['Weight'].iloc[idx_6_test],X_test['Length1'].iloc[idx_6_test],s=10, c='peru', marker='x', label='Smelt actual')\n",
    "\n",
    "plt.title(\"Weight VS Length1\")\n",
    "plt.legend(loc='best')"
   ]
  },
  {
   "cell_type": "code",
   "execution_count": 37,
   "metadata": {},
   "outputs": [
    {
     "data": {
      "text/plain": [
       "<matplotlib.legend.Legend at 0x7ff35b539100>"
      ]
     },
     "execution_count": 37,
     "metadata": {},
     "output_type": "execute_result"
    },
    {
     "data": {
      "image/png": "[encoded data removed]",
      "text/plain": [
       "<Figure size 432x288 with 1 Axes>"
      ]
     },
     "metadata": {
      "needs_background": "light"
     },
     "output_type": "display_data"
    }
   ],
   "source": [
    "plt.scatter(X_test['Length2'].iloc[idx_0_pred],X_test['Length3'].iloc[idx_0_pred],s=50, c='red', marker='*', label='Bream pred')\n",
    "plt.scatter(X_test['Length2'].iloc[idx_0_test],X_test['Length3'].iloc[idx_0_test],s=10, c='blue', marker='*', label='Bream actual')\n",
    "plt.scatter(X_test['Length2'].iloc[idx_1_pred],X_test['Length3'].iloc[idx_1_pred],s=50, c='pink', marker='o', label='Roach pred')\n",
    "plt.scatter(X_test['Length2'].iloc[idx_1_test],X_test['Length3'].iloc[idx_1_test],s=10, c='green', marker='o', label='Roach actual')\n",
    "plt.scatter(X_test['Length2'].iloc[idx_2_pred],X_test['Length3'].iloc[idx_2_pred],s=50, c='yellow', marker='x', label='Whitefish pred')\n",
    "plt.scatter(X_test['Length2'].iloc[idx_2_test],X_test['Length3'].iloc[idx_2_test],s=10, c='black', marker='x', label='Whitefish actual')\n",
    "plt.scatter(X_test['Length2'].iloc[idx_3_pred],X_test['Length3'].iloc[idx_3_pred],s=50, c='red', marker='x', label='Parkki pred')\n",
    "plt.scatter(X_test['Length2'].iloc[idx_3_test],X_test['Length3'].iloc[idx_3_test],s=10, c='blue', marker='x', label='Parkki actual')\n",
    "plt.scatter(X_test['Length2'].iloc[idx_4_pred],X_test['Length3'].iloc[idx_4_pred],s=50, c='pink', marker='*', label='Perch pred')\n",
    "plt.scatter(X_test['Length2'].iloc[idx_4_test],X_test['Length3'].iloc[idx_4_test],s=10, c='green', marker='*', label='Perch actual')\n",
    "plt.scatter(X_test['Length2'].iloc[idx_5_pred],X_test['Length3'].iloc[idx_5_pred],s=50, c='plum', marker='o', label='Pike pred')\n",
    "plt.scatter(X_test['Length2'].iloc[idx_5_test],X_test['Length3'].iloc[idx_5_test],s=10, c='black', marker='o', label='Pike actual')\n",
    "plt.scatter(X_test['Length2'].iloc[idx_6_pred],X_test['Length3'].iloc[idx_6_pred],s=50, c='lawngreen', marker='x', label='Smelt pred')\n",
    "plt.scatter(X_test['Length2'].iloc[idx_6_test],X_test['Length3'].iloc[idx_6_test],s=10, c='peru', marker='x', label='Smelt actual')\n",
    "\n",
    "plt.title(\"Length2 VS Length3\")\n",
    "plt.legend(loc='best')"
   ]
  },
  {
   "cell_type": "code",
   "execution_count": 38,
   "metadata": {},
   "outputs": [
    {
     "data": {
      "text/plain": [
       "<matplotlib.legend.Legend at 0x7ff35b503610>"
      ]
     },
     "execution_count": 38,
     "metadata": {},
     "output_type": "execute_result"
    },
    {
     "data": {
      "image/png": "[encoded data removed]",
      "text/plain": [
       "<Figure size 432x288 with 1 Axes>"
      ]
     },
     "metadata": {
      "needs_background": "light"
     },
     "output_type": "display_data"
    }
   ],
   "source": [
    "plt.scatter(X_test['Height'].iloc[idx_0_pred],X_test['Width'].iloc[idx_0_pred],s=50, c='red', marker='*', label='Bream pred')\n",
    "plt.scatter(X_test['Height'].iloc[idx_0_test],X_test['Width'].iloc[idx_0_test],s=10, c='blue', marker='*', label='Bream actual')\n",
    "plt.scatter(X_test['Height'].iloc[idx_1_pred],X_test['Width'].iloc[idx_1_pred],s=50, c='pink', marker='o', label='Roach pred')\n",
    "plt.scatter(X_test['Height'].iloc[idx_1_test],X_test['Width'].iloc[idx_1_test],s=10, c='green', marker='o', label='Roach actual')\n",
    "plt.scatter(X_test['Height'].iloc[idx_2_pred],X_test['Width'].iloc[idx_2_pred],s=50, c='yellow', marker='x', label='Whitefish pred')\n",
    "plt.scatter(X_test['Height'].iloc[idx_2_test],X_test['Width'].iloc[idx_2_test],s=10, c='black', marker='x', label='Whitefish actual')\n",
    "plt.scatter(X_test['Height'].iloc[idx_3_pred],X_test['Width'].iloc[idx_3_pred],s=50, c='red', marker='x', label='Parkki pred')\n",
    "plt.scatter(X_test['Height'].iloc[idx_3_test],X_test['Width'].iloc[idx_3_test],s=10, c='blue', marker='x', label='Parkki actual')\n",
    "plt.scatter(X_test['Height'].iloc[idx_4_pred],X_test['Width'].iloc[idx_4_pred],s=50, c='pink', marker='*', label='Perch pred')\n",
    "plt.scatter(X_test['Height'].iloc[idx_4_test],X_test['Width'].iloc[idx_4_test],s=10, c='green', marker='*', label='Perch actual')\n",
    "plt.scatter(X_test['Height'].iloc[idx_5_pred],X_test['Width'].iloc[idx_5_pred],s=50, c='plum', marker='o', label='Pike pred')\n",
    "plt.scatter(X_test['Height'].iloc[idx_5_test],X_test['Width'].iloc[idx_5_test],s=10, c='black', marker='o', label='Pike actual')\n",
    "plt.scatter(X_test['Height'].iloc[idx_6_pred],X_test['Width'].iloc[idx_6_pred],s=50, c='lawngreen', marker='x', label='Smelt pred')\n",
    "plt.scatter(X_test['Height'].iloc[idx_6_test],X_test['Width'].iloc[idx_6_test],s=10, c='peru', marker='x', label='Smelt actual')\n",
    "\n",
    "plt.title(\"Height VS Width\")\n",
    "plt.legend(loc='best')"
   ]
  }
 ],
 "metadata": {
  "kernelspec": {
   "display_name": "Python 3 (ipykernel)",
   "language": "python",
   "name": "python3"
  },
  "language_info": {
   "codemirror_mode": {
    "name": "ipython",
    "version": 3
   },
   "file_extension": ".py",
   "mimetype": "text/x-python",
   "name": "python",
   "nbconvert_exporter": "python",
   "pygments_lexer": "ipython3",
   "version": "3.8.3"
  }
 },
 "nbformat": 4,
 "nbformat_minor": 4
}
